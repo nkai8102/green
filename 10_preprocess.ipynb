{
 "cells": [
  {
   "cell_type": "code",
   "execution_count": 1,
   "id": "bc2ef3d0-c8bc-4511-934e-7205c5825dec",
   "metadata": {},
   "outputs": [],
   "source": [
    "import numpy as np\n",
    "import polars as pl\n",
    "import matplotlib.pyplot as plt\n",
    "\n",
    "train = pl.read_csv(\"data/train.csv\").rename({\"\": \"idx\"})\n",
    "test = pl.read_csv(\"data/test.csv\").rename({\"\": \"idx\"})\n",
    "sample_submission = pl.read_csv(\"data/sample_submission.csv\")\n"
   ]
  },
  {
   "cell_type": "code",
   "execution_count": 2,
   "id": "8d8f61c1",
   "metadata": {},
   "outputs": [],
   "source": [
    "# train, testを結合\n",
    "train_test = pl.concat([train.drop(\"health\"), test])\n",
    "\n",
    "# 各カラム\n",
    "cols_cat_int = [\"boro_ct\", \"cb_num\"] # integerだがカテゴリ特徴量とみなすもの\n",
    "cols_num = [c for c in train_test.select(pl.col(pl.INTEGER_DTYPES)).columns if not c in cols_cat_int] # 数値特徴量\n",
    "cols_cat = [c for c in train_test.select(pl.col(pl.Utf8)).columns if c != \"created_at\"] + cols_cat_int # カテゴリ特徴量\n",
    "\n",
    "# cols_cat_intの特徴量については、integerからstringに変換\n",
    "for col in cols_cat_int:\n",
    "    train_test = train_test.with_columns(pl.col(col).cast(pl.Utf8))\n",
    "\n",
    "# ordinal encoding\n",
    "for col in cols_cat:\n",
    "    train_test = train_test.with_columns(pl.col(col).cast(pl.Categorical).cast(pl.UInt32))"
   ]
  },
  {
   "cell_type": "code",
   "execution_count": 3,
   "id": "09d5e03c",
   "metadata": {},
   "outputs": [],
   "source": [
    "# \"created_at\"特徴量を、最も古い日付(15/5/19)からの経過日数に変換\n",
    "dates = train_test[\"created_at\"].str.to_datetime()\n",
    "dates = pl.Series((dates - dates.min()).dt.total_days())\n",
    "train_test = train_test.with_columns(dates.alias(\"created_at\"))"
   ]
  },
  {
   "cell_type": "code",
   "execution_count": 4,
   "id": "7b69b7b2",
   "metadata": {},
   "outputs": [],
   "source": [
    "# 2クラス分類用のラベル\n",
    "train = train.with_columns([pl.when(pl.col(\"health\") == h).then(1).otherwise(0).alias(f\"health_is_{h}\") \n",
    "                            for h in range(3)])"
   ]
  },
  {
   "cell_type": "code",
   "execution_count": 5,
   "id": "1d0a44bf",
   "metadata": {},
   "outputs": [],
   "source": [
    "# split train/test\n",
    "n_train = len(train)\n",
    "\n",
    "# train feature for binary clf\n",
    "train_feat = train_test.filter(pl.col(\"idx\") < n_train)\n",
    "train_feat = train_feat.join(train.select([\"idx\"] + [f\"health_is_{h}\" for h in range(3)]), on=\"idx\", how=\"left\")\n",
    "train_feat.write_csv(\"feat/feat_train_binary.csv\")\n",
    "\n",
    "# train feature for multiclass clf\n",
    "train_feat = train_test.filter(pl.col(\"idx\") < n_train)\n",
    "train_feat = train_feat.join(train.select([\"idx\", \"health\"]), on=\"idx\", how=\"left\")\n",
    "train_feat.write_csv(\"feat/feat_train_multiclass.csv\")\n",
    "\n",
    "# test feature\n",
    "test_feat = train_test.filter(pl.col(\"idx\") >= n_train)\n",
    "test_feat.write_csv(\"feat/feat_test.csv\")"
   ]
  }
 ],
 "metadata": {
  "kernelspec": {
   "display_name": "Python 3 (ipykernel)",
   "language": "python",
   "name": "python3"
  },
  "language_info": {
   "codemirror_mode": {
    "name": "ipython",
    "version": 3
   },
   "file_extension": ".py",
   "mimetype": "text/x-python",
   "name": "python",
   "nbconvert_exporter": "python",
   "pygments_lexer": "ipython3",
   "version": "3.9.5"
  }
 },
 "nbformat": 4,
 "nbformat_minor": 5
}
