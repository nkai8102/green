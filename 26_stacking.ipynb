{
 "cells": [
  {
   "cell_type": "code",
   "execution_count": 1,
   "id": "bc2ef3d0-c8bc-4511-934e-7205c5825dec",
   "metadata": {},
   "outputs": [],
   "source": [
    "import numpy as np\n",
    "import polars as pl\n",
    "import matplotlib.pyplot as plt\n",
    "from tqdm.notebook import tqdm\n",
    "from sklearn.model_selection import KFold, StratifiedKFold\n",
    "from itertools import product"
   ]
  },
  {
   "cell_type": "code",
   "execution_count": 2,
   "id": "3460e998",
   "metadata": {},
   "outputs": [],
   "source": [
    "# each prediction\n",
    "train_origin = pl.read_csv(\"data/train.csv\")\n",
    "\n",
    "clf_feat_lst = [\n",
    "    \"catboost_feat00\", \n",
    "    \"lgbm_feat01\", \n",
    "    \"randomforest_feat02\", \n",
    "    \"logisticregression_feat03\", \n",
    "    \"tabnet_feat03\"\n",
    "]\n",
    "\n",
    "oof_pred_df_lst = [pl.read_csv(f\"pred/oof_pred_{clf_feat}.csv\") for clf_feat in clf_feat_lst]\n",
    "test_pred_df_lst = [pl.read_csv(f\"pred/test_pred_{clf_feat}.csv\") for clf_feat in clf_feat_lst]"
   ]
  },
  {
   "cell_type": "code",
   "execution_count": 3,
   "id": "e72ec83b",
   "metadata": {},
   "outputs": [],
   "source": [
    "# tag for filename\n",
    "clf_feat_stacking = \"_\".join([\"stacking\"] + [cf.split(\"_\")[0] for cf in clf_feat_lst])"
   ]
  },
  {
   "cell_type": "markdown",
   "id": "db71efc8",
   "metadata": {},
   "source": [
    "### train layer2 model (logistic regression)"
   ]
  },
  {
   "cell_type": "code",
   "execution_count": 4,
   "id": "a421c273",
   "metadata": {},
   "outputs": [],
   "source": [
    "# Layer2特徴量：各モデルの予測確率\n",
    "train = pl.concat([oof_pred_df.select(pl.all().name.prefix(f\"model{i}_\")) \n",
    "                   for i, oof_pred_df in enumerate(oof_pred_df_lst)], how=\"horizontal\")\n",
    "cols_exp = train.columns\n",
    "\n",
    "# 予測ターゲット\n",
    "train = train.with_columns(train_origin[\"health\"])\n",
    "col_target = \"health\""
   ]
  },
  {
   "cell_type": "code",
   "execution_count": 5,
   "id": "562de20d",
   "metadata": {},
   "outputs": [],
   "source": [
    "from sklearn.linear_model import LogisticRegression\n",
    "from sklearn.preprocessing import StandardScaler\n",
    "\n",
    "x = train[cols_exp].to_numpy()\n",
    "y = train[col_target].to_numpy()\n",
    "\n",
    "# 学習データ全体でstandard scalerをfitting (testのstackingで利用される想定)\n",
    "scaler_all = StandardScaler()\n",
    "scaler_all.fit(x)\n",
    "\n",
    "# cross validation\n",
    "kf = KFold(n_splits=5, shuffle=True, random_state=0)\n",
    "y_valid_pred_lst = []\n",
    "idx_valid_lst = []\n",
    "clf_lst = []\n",
    "\n",
    "for idx_train, idx_valid in kf.split(x):\n",
    "    # partitioning\n",
    "    x_train = x[idx_train, :]\n",
    "    x_valid = x[idx_valid, :]\n",
    "    y_train = y[idx_train]\n",
    "    y_valid = y[idx_valid]\n",
    "    \n",
    "    # normalization\n",
    "    scaler = StandardScaler()\n",
    "    x_train = scaler.fit_transform(x_train)\n",
    "    x_valid = scaler.transform(x_valid)\n",
    "    \n",
    "    # training layer2\n",
    "    clf = LogisticRegression(random_state=0).fit(x_train, y_train)\n",
    "    \n",
    "    # oof\n",
    "    y_valid_pred = clf.predict_proba(x_valid)\n",
    "    y_valid_pred_lst.append(y_valid_pred)\n",
    "    idx_valid_lst.append(idx_valid)\n",
    "    clf_lst.append(clf)\n",
    "\n",
    "idx_valid = np.hstack(idx_valid_lst)\n",
    "y_valid_pred = np.vstack(y_valid_pred_lst)\n",
    "oof_pred = y_valid_pred[np.argsort(idx_valid)]\n",
    "\n",
    "# to dataframe\n",
    "oof_pred_df = pl.DataFrame(oof_pred, schema=[f\"health_is_{h}\" for h in range(3)])\n",
    "oof_pred_df.write_csv(f\"pred/oof_pred_{clf_feat_stacking}.csv\")"
   ]
  },
  {
   "cell_type": "markdown",
   "id": "8eac0441",
   "metadata": {},
   "source": [
    "### calcurate prob of test"
   ]
  },
  {
   "cell_type": "code",
   "execution_count": 6,
   "id": "9db5f553",
   "metadata": {},
   "outputs": [],
   "source": [
    "def predict_test(x_test, clf_lst):\n",
    "    y_test_pred_lst = []\n",
    "\n",
    "    for clf in clf_lst:\n",
    "        y_test_pred = clf.predict_proba(x_test)\n",
    "        y_test_pred_lst.append(y_test_pred)\n",
    "\n",
    "    y_test_pred = np.mean(y_test_pred_lst, axis=0)\n",
    "    return y_test_pred"
   ]
  },
  {
   "cell_type": "code",
   "execution_count": 7,
   "id": "b1516585",
   "metadata": {},
   "outputs": [],
   "source": [
    "# each prediction\n",
    "test = pl.concat([pred_df.select(pl.all().name.prefix(f\"model{i}_\")) \n",
    "                   for i, pred_df in enumerate(test_pred_df_lst)], how=\"horizontal\")\n",
    "\n",
    "# normalization\n",
    "x_test = scaler_all.transform(test[cols_exp].to_numpy())\n",
    "\n",
    "# calcurate ensemble prob\n",
    "y_test_pred = predict_test(x_test, clf_lst)\n",
    "\n",
    "# record\n",
    "test_pred_df = pl.DataFrame(y_test_pred, schema=[f\"health_is_{h}\" for h in range(3)])\n",
    "test_pred_df.write_csv(f\"pred/test_pred_{clf_feat_stacking}.csv\")"
   ]
  },
  {
   "cell_type": "code",
   "execution_count": null,
   "id": "692f5201",
   "metadata": {},
   "outputs": [],
   "source": []
  },
  {
   "cell_type": "code",
   "execution_count": null,
   "id": "4ec3ba5a",
   "metadata": {},
   "outputs": [],
   "source": []
  }
 ],
 "metadata": {
  "kernelspec": {
   "display_name": "Python 3 (ipykernel)",
   "language": "python",
   "name": "python3"
  },
  "language_info": {
   "codemirror_mode": {
    "name": "ipython",
    "version": 3
   },
   "file_extension": ".py",
   "mimetype": "text/x-python",
   "name": "python",
   "nbconvert_exporter": "python",
   "pygments_lexer": "ipython3",
   "version": "3.9.5"
  }
 },
 "nbformat": 4,
 "nbformat_minor": 5
}
