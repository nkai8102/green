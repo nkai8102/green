{
 "cells": [
  {
   "cell_type": "code",
   "execution_count": 1,
   "id": "bc2ef3d0-c8bc-4511-934e-7205c5825dec",
   "metadata": {},
   "outputs": [],
   "source": [
    "import numpy as np\n",
    "import polars as pl\n",
    "import matplotlib.pyplot as plt"
   ]
  },
  {
   "cell_type": "code",
   "execution_count": 2,
   "id": "2df25e2d",
   "metadata": {},
   "outputs": [],
   "source": [
    "train = pl.read_csv(\"data/train.csv\")\n",
    "test = pl.read_csv(\"data/test.csv\")\n",
    "sample_submission = pl.read_csv(\"data/sample_submission.csv\")"
   ]
  },
  {
   "cell_type": "code",
   "execution_count": 3,
   "id": "c45b9b58",
   "metadata": {},
   "outputs": [
    {
     "data": {
      "text/html": [
       "<div><style>\n",
       ".dataframe > thead > tr,\n",
       ".dataframe > tbody > tr {\n",
       "  text-align: right;\n",
       "  white-space: pre-wrap;\n",
       "}\n",
       "</style>\n",
       "<small>shape: (3, 14)</small><table border=\"1\" class=\"dataframe\"><thead><tr><th>created_at</th><th>curb_loc</th><th>steward</th><th>guards</th><th>sidewalk</th><th>user_type</th><th>problems</th><th>spc_common</th><th>spc_latin</th><th>nta</th><th>nta_name</th><th>boroname</th><th>zip_city</th><th>phase</th></tr><tr><td>u32</td><td>u32</td><td>u32</td><td>u32</td><td>u32</td><td>u32</td><td>u32</td><td>u32</td><td>u32</td><td>u32</td><td>u32</td><td>u32</td><td>u32</td><td>str</td></tr></thead><tbody><tr><td>447</td><td>2</td><td>4</td><td>4</td><td>2</td><td>3</td><td>74</td><td>119</td><td>120</td><td>188</td><td>187</td><td>5</td><td>45</td><td>&quot;train&quot;</td></tr><tr><td>447</td><td>2</td><td>4</td><td>4</td><td>2</td><td>3</td><td>74</td><td>117</td><td>118</td><td>185</td><td>184</td><td>5</td><td>45</td><td>&quot;test&quot;</td></tr><tr><td>447</td><td>2</td><td>4</td><td>4</td><td>2</td><td>3</td><td>74</td><td>119</td><td>120</td><td>188</td><td>187</td><td>5</td><td>45</td><td>&quot;train_test&quot;</td></tr></tbody></table></div>"
      ],
      "text/plain": [
       "shape: (3, 14)\n",
       "┌────────────┬──────────┬─────────┬────────┬───┬──────────┬──────────┬──────────┬────────────┐\n",
       "│ created_at ┆ curb_loc ┆ steward ┆ guards ┆ … ┆ nta_name ┆ boroname ┆ zip_city ┆ phase      │\n",
       "│ ---        ┆ ---      ┆ ---     ┆ ---    ┆   ┆ ---      ┆ ---      ┆ ---      ┆ ---        │\n",
       "│ u32        ┆ u32      ┆ u32     ┆ u32    ┆   ┆ u32      ┆ u32      ┆ u32      ┆ str        │\n",
       "╞════════════╪══════════╪═════════╪════════╪═══╪══════════╪══════════╪══════════╪════════════╡\n",
       "│ 447        ┆ 2        ┆ 4       ┆ 4      ┆ … ┆ 187      ┆ 5        ┆ 45       ┆ train      │\n",
       "│ 447        ┆ 2        ┆ 4       ┆ 4      ┆ … ┆ 184      ┆ 5        ┆ 45       ┆ test       │\n",
       "│ 447        ┆ 2        ┆ 4       ┆ 4      ┆ … ┆ 187      ┆ 5        ┆ 45       ┆ train_test │\n",
       "└────────────┴──────────┴─────────┴────────┴───┴──────────┴──────────┴──────────┴────────────┘"
      ]
     },
     "execution_count": 3,
     "metadata": {},
     "output_type": "execute_result"
    }
   ],
   "source": [
    "# 文字列のカラムのユニーク数を確認 ⇒trainになくtestにあるカテゴリ値は存在しない\n",
    "train_test = pl.concat([train.drop(\"health\"), test])\n",
    "\n",
    "pl.concat([eval(phase).select(pl.col(pl.Utf8)).approx_n_unique().with_columns(pl.lit(phase).alias(\"phase\")) \n",
    "           for phase in [\"train\", \"test\", \"train_test\"]])"
   ]
  },
  {
   "cell_type": "code",
   "execution_count": null,
   "id": "2480e47e",
   "metadata": {},
   "outputs": [],
   "source": []
  }
 ],
 "metadata": {
  "kernelspec": {
   "display_name": "Python 3 (ipykernel)",
   "language": "python",
   "name": "python3"
  },
  "language_info": {
   "codemirror_mode": {
    "name": "ipython",
    "version": 3
   },
   "file_extension": ".py",
   "mimetype": "text/x-python",
   "name": "python",
   "nbconvert_exporter": "python",
   "pygments_lexer": "ipython3",
   "version": "3.9.5"
  }
 },
 "nbformat": 4,
 "nbformat_minor": 5
}
