{
 "cells": [
  {
   "cell_type": "code",
   "execution_count": 1,
   "id": "bc2ef3d0-c8bc-4511-934e-7205c5825dec",
   "metadata": {},
   "outputs": [],
   "source": [
    "import numpy as np\n",
    "import polars as pl\n",
    "import matplotlib.pyplot as plt\n",
    "from tqdm.notebook import tqdm\n",
    "from sklearn.model_selection import KFold, StratifiedKFold\n",
    "\n",
    "from catboost import CatBoostClassifier, Pool, metrics, cv"
   ]
  },
  {
   "cell_type": "code",
   "execution_count": 2,
   "id": "ca09f135",
   "metadata": {},
   "outputs": [],
   "source": [
    "feat = \"feat00\"\n",
    "train = pl.read_csv(f\"feat/feat_train_{feat}.csv\")\n",
    "test = pl.read_csv(f\"feat/feat_test_{feat}.csv\")\n",
    "train_origin = pl.read_csv(\"data/train.csv\").rename({\"\": \"idx\"})\n",
    "\n",
    "# 説明変数のカラム\n",
    "cols_exp = [c for c in test.columns if c != \"idx\"]\n",
    "\n",
    "# カテゴリ特徴量のカラム\n",
    "cols_cat_int = [\"boro_ct\", \"cb_num\"] # integerだがカテゴリ特徴量とみなすもの\n",
    "cols_cat = [c for c in train_origin.select(pl.col(pl.Utf8)).columns if c != \"created_at\"] + cols_cat_int # カテゴリ特徴量\n",
    "\n",
    "# カテゴリ特徴量の欠損を-1で埋める（Catboostはカテゴリ特徴量の欠損を受け付けない）\n",
    "train = train.with_columns(train[cols_cat].fill_null(-1))\n",
    "test = test.with_columns(test[cols_cat].fill_null(-1))\n",
    "\n",
    "# ターゲット変数\n",
    "col_target = \"health\""
   ]
  },
  {
   "cell_type": "markdown",
   "id": "0990efad",
   "metadata": {},
   "source": [
    "### Catboost"
   ]
  },
  {
   "cell_type": "code",
   "execution_count": 3,
   "id": "685ac8b3",
   "metadata": {},
   "outputs": [],
   "source": [
    "import hyperopt\n",
    "from numpy.random import RandomState\n",
    "\n",
    "def tune_catboost_params(train, cols_exp, col_target, cols_cat):    \n",
    "    x = train[cols_exp].to_numpy()\n",
    "    y = train[col_target].to_numpy()\n",
    "\n",
    "    # cols_expにおけるカテゴリ変数のインデックス (Catboostモデリングに使用)\n",
    "    cols_cat_idxs = [i for i, c in enumerate(cols_exp) if c in cols_cat]\n",
    "\n",
    "    params_space = {'learning_rate': hyperopt.hp.uniform('learning_rate', 0.1, 0.5),\n",
    "                    'l2_leaf_reg': hyperopt.hp.randint('l2_leaf_reg',1,10),\n",
    "                    'depth': hyperopt.hp.randint('depth',4,10), \n",
    "                    'bagging_temperature': hyperopt.hp.uniform('bagging_temperature',0.0,1.0), \n",
    "                    'random_strength': hyperopt.hp.uniform('random_strength',1, 20)\n",
    "                    }\n",
    "    trials = hyperopt.Trials()\n",
    "    \n",
    "    # hyperopt目的関数の定義\n",
    "    def hyperopt_objective(params):\n",
    "        params_add = {'classes_count': 3, \n",
    "                    'loss_function': \"MultiClass\", \n",
    "                    'od_type': 'Iter', # early stopping\n",
    "                    'od_wait': 50,  # early stopping, \n",
    "                    'logging_level': 'Silent', \n",
    "                    'use_best_model': True\n",
    "                    }\n",
    "        params |= params_add\n",
    "        \n",
    "        clf = CatBoostClassifier(**params)\n",
    "        \n",
    "        cv_data = cv(\n",
    "            Pool(x, y, cat_features=cols_cat_idxs),\n",
    "            params,\n",
    "            logging_level='Silent',\n",
    "        )\n",
    "        min_loss = np.min(cv_data['test-MultiClass-mean'])\n",
    "        \n",
    "        return min_loss # as hyperopt minimises\n",
    "    \n",
    "    # パラメータ最適化の実行\n",
    "    params_tuned = hyperopt.fmin(\n",
    "        hyperopt_objective,\n",
    "        space=params_space,\n",
    "        algo=hyperopt.tpe.suggest,\n",
    "        max_evals=50,\n",
    "        trials=trials,\n",
    "    )\n",
    "\n",
    "    return params_tuned"
   ]
  },
  {
   "cell_type": "code",
   "execution_count": 4,
   "id": "d4100aa5",
   "metadata": {},
   "outputs": [],
   "source": [
    "def train_catboost(train, cols_exp, col_target, cols_cat, params=None):\n",
    "    # cols_expにおけるカテゴリ変数のインデックス (Catboostモデリングに使用)\n",
    "    cols_cat_idxs = [i for i, c in enumerate(cols_exp) if c in cols_cat]\n",
    "    \n",
    "    if params is None:\n",
    "        params = {}\n",
    "        \n",
    "    params_add = {'classes_count': 3, \n",
    "                  'loss_function': \"MultiClass\", \n",
    "                  'od_type': 'Iter', # early stopping\n",
    "                  'od_wait': 50,  # early stopping, \n",
    "                  'logging_level': 'Silent', \n",
    "                  'use_best_model': True\n",
    "                  }\n",
    "    params |= params_add\n",
    "\n",
    "    x = train[cols_exp].to_numpy()\n",
    "    y = train[col_target].to_numpy()\n",
    "\n",
    "    # 層化K-fold\n",
    "    skf = StratifiedKFold(n_splits=5, random_state=0, shuffle=True)\n",
    "    y_valid_pred_lst = []\n",
    "    idx_valid_lst = []\n",
    "    clf_lst = []\n",
    "\n",
    "    # cross validation\n",
    "    for fold, (idx_train, idx_valid) in enumerate(skf.split(x, y)):\n",
    "        print(\"fold\", fold)\n",
    "        x_train = x[idx_train, :]\n",
    "        x_valid = x[idx_valid, :]\n",
    "        y_train = y[idx_train]\n",
    "        y_valid = y[idx_valid]\n",
    "        \n",
    "        # catboost modeling\n",
    "        clf = CatBoostClassifier(**params)\n",
    "        clf.fit(\n",
    "            x_train, y_train,\n",
    "            cat_features=cols_cat_idxs,\n",
    "            eval_set=(x_valid, y_valid),\n",
    "            plot=True\n",
    "        )\n",
    "\n",
    "        # oof\n",
    "        y_valid_pred = clf.predict_proba(x_valid)\n",
    "        y_valid_pred_lst.append(y_valid_pred)\n",
    "        idx_valid_lst.append(idx_valid)\n",
    "        clf_lst.append(clf)\n",
    "\n",
    "    idx_valid = np.hstack(idx_valid_lst)\n",
    "    y_valid_pred = np.vstack(y_valid_pred_lst)\n",
    "    oof_pred = y_valid_pred[np.argsort(idx_valid)]\n",
    "    \n",
    "    return clf_lst, oof_pred"
   ]
  },
  {
   "cell_type": "code",
   "execution_count": 5,
   "id": "960ae40f",
   "metadata": {},
   "outputs": [],
   "source": [
    "def predict_test(x_test, clf_lst):\n",
    "    y_test_pred_lst = []\n",
    "\n",
    "    for clf in clf_lst:\n",
    "        y_test_pred = clf.predict_proba(x_test)\n",
    "        y_test_pred_lst.append(y_test_pred)\n",
    "\n",
    "    y_test_pred = np.mean(y_test_pred_lst, axis=0)\n",
    "    return y_test_pred"
   ]
  },
  {
   "cell_type": "code",
   "execution_count": 6,
   "id": "a09dbbbb",
   "metadata": {},
   "outputs": [
    {
     "name": "stdout",
     "output_type": "stream",
     "text": [
      "fold 0\n"
     ]
    },
    {
     "data": {
      "application/vnd.jupyter.widget-view+json": {
       "model_id": "f4ca0b8bf69e41f0909db3f56307a579",
       "version_major": 2,
       "version_minor": 0
      },
      "text/plain": [
       "MetricVisualizer(layout=Layout(align_self='stretch', height='500px'))"
      ]
     },
     "metadata": {},
     "output_type": "display_data"
    },
    {
     "name": "stdout",
     "output_type": "stream",
     "text": [
      "fold 1\n"
     ]
    },
    {
     "data": {
      "application/vnd.jupyter.widget-view+json": {
       "model_id": "a3b7592d06b049a6b86f2e291603bd43",
       "version_major": 2,
       "version_minor": 0
      },
      "text/plain": [
       "MetricVisualizer(layout=Layout(align_self='stretch', height='500px'))"
      ]
     },
     "metadata": {},
     "output_type": "display_data"
    },
    {
     "name": "stdout",
     "output_type": "stream",
     "text": [
      "fold 2\n"
     ]
    },
    {
     "data": {
      "application/vnd.jupyter.widget-view+json": {
       "model_id": "00727522c3a94a0aa1a0bd6659a47783",
       "version_major": 2,
       "version_minor": 0
      },
      "text/plain": [
       "MetricVisualizer(layout=Layout(align_self='stretch', height='500px'))"
      ]
     },
     "metadata": {},
     "output_type": "display_data"
    },
    {
     "name": "stdout",
     "output_type": "stream",
     "text": [
      "fold 3\n"
     ]
    },
    {
     "data": {
      "application/vnd.jupyter.widget-view+json": {
       "model_id": "f8ffd9d4ad5d4e1e87d737e0eac28be7",
       "version_major": 2,
       "version_minor": 0
      },
      "text/plain": [
       "MetricVisualizer(layout=Layout(align_self='stretch', height='500px'))"
      ]
     },
     "metadata": {},
     "output_type": "display_data"
    },
    {
     "name": "stdout",
     "output_type": "stream",
     "text": [
      "fold 4\n"
     ]
    },
    {
     "data": {
      "application/vnd.jupyter.widget-view+json": {
       "model_id": "6f5b42ee43ee4f90bc6d6f6059491154",
       "version_major": 2,
       "version_minor": 0
      },
      "text/plain": [
       "MetricVisualizer(layout=Layout(align_self='stretch', height='500px'))"
      ]
     },
     "metadata": {},
     "output_type": "display_data"
    }
   ],
   "source": [
    "# hyperoptを用いたcatboostパラメータ最適化\n",
    "# params_tuned = tune_catboost_params(train, cols_exp, col_target, cols_cat)\n",
    "params_tuned = {\n",
    "    'bagging_temperature': 0.4652651687152352,\n",
    "    'depth': 4,\n",
    "    'l2_leaf_reg': 6,\n",
    "    'learning_rate': 0.1143642151168838,\n",
    "    'random_strength': 8.147531052232143\n",
    "}\n",
    "\n",
    "# train Catboost model\n",
    "clf_lst, oof_pred = train_catboost(train, cols_exp, col_target, cols_cat, params_tuned)\n",
    "\n",
    "# predict test with CV ensemble\n",
    "y_test_pred = predict_test(test[cols_exp].to_numpy(), clf_lst)\n",
    "\n",
    "# record\n",
    "oof_pred_df = pl.DataFrame(oof_pred, schema=[f\"health_is_{h}\" for h in range(3)])\n",
    "test_pred_df = pl.DataFrame(y_test_pred, schema=[f\"health_is_{h}\" for h in range(3)])"
   ]
  },
  {
   "cell_type": "code",
   "execution_count": 7,
   "id": "cf1f771f",
   "metadata": {},
   "outputs": [],
   "source": [
    "# save\n",
    "oof_pred_df.write_csv(f\"pred/oof_pred_catboost_{feat}.csv\")\n",
    "test_pred_df.write_csv(f\"pred/test_pred_catboost_{feat}.csv\")"
   ]
  }
 ],
 "metadata": {
  "kernelspec": {
   "display_name": "Python 3 (ipykernel)",
   "language": "python",
   "name": "python3"
  },
  "language_info": {
   "codemirror_mode": {
    "name": "ipython",
    "version": 3
   },
   "file_extension": ".py",
   "mimetype": "text/x-python",
   "name": "python",
   "nbconvert_exporter": "python",
   "pygments_lexer": "ipython3",
   "version": "3.9.5"
  }
 },
 "nbformat": 4,
 "nbformat_minor": 5
}
