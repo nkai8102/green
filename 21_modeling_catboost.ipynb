{
 "cells": [
  {
   "cell_type": "code",
   "execution_count": 1,
   "id": "bc2ef3d0-c8bc-4511-934e-7205c5825dec",
   "metadata": {},
   "outputs": [],
   "source": [
    "import numpy as np\n",
    "import polars as pl\n",
    "import matplotlib.pyplot as plt\n",
    "from tqdm.notebook import tqdm\n",
    "import time\n",
    "\n",
    "import lightgbm as lgbm\n",
    "from sklearn.model_selection import KFold\n",
    "from sklearn.model_selection import StratifiedKFold\n",
    "from sklearn.metrics import log_loss\n",
    "from sklearn.model_selection import GroupKFold\n",
    "# from sklearn.metrics import auc\n",
    "from sklearn.metrics import roc_auc_score\n",
    "from imblearn.under_sampling import RandomUnderSampler\n",
    "from optuna import integration, logging\n",
    "# import pandas as pd\n",
    "from catboost import CatBoostClassifier, Pool, metrics, cv"
   ]
  },
  {
   "cell_type": "code",
   "execution_count": 2,
   "id": "ca09f135",
   "metadata": {},
   "outputs": [],
   "source": [
    "feat = \"feat00\"\n",
    "train = pl.read_csv(f\"feat/feat_train_{feat}.csv\")\n",
    "test = pl.read_csv(f\"feat/feat_test_{feat}.csv\")\n",
    "train_origin = pl.read_csv(\"data/train.csv\").rename({\"\": \"idx\"})\n",
    "\n",
    "# 説明変数のカラム\n",
    "cols_exp = [c for c in test.columns if c != \"idx\"]\n",
    "\n",
    "# カテゴリ特徴量のカラム\n",
    "cols_cat_int = [\"boro_ct\", \"cb_num\"] # integerだがカテゴリ特徴量とみなすもの\n",
    "cols_cat = [c for c in train_origin.select(pl.col(pl.Utf8)).columns if c != \"created_at\"] + cols_cat_int # カテゴリ特徴量\n",
    "\n",
    "# カテゴリ特徴量の欠損を-1で埋める（Catboostはカテゴリ特徴量の欠損を受け付けない）\n",
    "train = train.with_columns(train[cols_cat].fill_null(-1))\n",
    "test = test.with_columns(test[cols_cat].fill_null(-1))\n",
    "\n",
    "# ターゲット変数\n",
    "col_target = \"health\"\n",
    "                   "
   ]
  },
  {
   "cell_type": "markdown",
   "id": "0990efad",
   "metadata": {},
   "source": [
    "### Catboost"
   ]
  },
  {
   "cell_type": "code",
   "execution_count": 3,
   "id": "d4100aa5",
   "metadata": {},
   "outputs": [],
   "source": [
    "def train_catboost(train, cols_exp, col_target, cols_cat_idxs, params=None):\n",
    "    if params is None:\n",
    "        params = {}\n",
    "        \n",
    "    params_add = {'classes_count': 3, \n",
    "                  'loss_function': \"MultiClass\", \n",
    "                  'od_type': 'Iter', # early stopping\n",
    "                  'od_wait': 50,  # early stopping, \n",
    "                  'logging_level': 'Silent', \n",
    "                  'use_best_model': True\n",
    "                  }\n",
    "    params |= params_add\n",
    "\n",
    "    x = train[cols_exp].to_numpy()\n",
    "    y = train[col_target].to_numpy()\n",
    "\n",
    "    # 層化K-fold\n",
    "    skf = StratifiedKFold(n_splits=5, random_state=0, shuffle=True)\n",
    "    y_valid_pred_lst = []\n",
    "    idx_valid_lst = []\n",
    "    clf_lst = []\n",
    "\n",
    "    # cross validation\n",
    "    for fold, (idx_train, idx_valid) in enumerate(skf.split(x, y)):\n",
    "        print(\"fold\", fold)\n",
    "        x_train = x[idx_train, :]\n",
    "        x_valid = x[idx_valid, :]\n",
    "        y_train = y[idx_train]\n",
    "        y_valid = y[idx_valid]\n",
    "        \n",
    "        # catboost modeling\n",
    "        clf = CatBoostClassifier(**params)\n",
    "        clf.fit(\n",
    "            x_train, y_train,\n",
    "            cat_features=cols_cat_idxs,\n",
    "            eval_set=(x_valid, y_valid),\n",
    "            plot=True\n",
    "        )\n",
    "\n",
    "        # oof\n",
    "        y_valid_pred = clf.predict_proba(x_valid)\n",
    "        y_valid_pred_lst.append(y_valid_pred)\n",
    "        idx_valid_lst.append(idx_valid)\n",
    "        clf_lst.append(clf)\n",
    "\n",
    "    idx_valid = np.hstack(idx_valid_lst)\n",
    "    y_valid_pred = np.vstack(y_valid_pred_lst)\n",
    "    oof_pred = y_valid_pred[np.argsort(idx_valid)]\n",
    "    \n",
    "    return clf_lst, oof_pred"
   ]
  },
  {
   "cell_type": "code",
   "execution_count": 4,
   "id": "960ae40f",
   "metadata": {},
   "outputs": [],
   "source": [
    "def predict_test(test, cols_exp, clf_lst):\n",
    "    x_test = test[cols_exp].to_numpy()\n",
    "    y_test_pred_lst = []\n",
    "\n",
    "    for clf in clf_lst:\n",
    "        y_test_pred = clf.predict_proba(x_test)\n",
    "        y_test_pred_lst.append(y_test_pred)\n",
    "\n",
    "    y_test_pred = np.mean(y_test_pred_lst, axis=0)\n",
    "    return y_test_pred"
   ]
  },
  {
   "cell_type": "code",
   "execution_count": 5,
   "id": "6e1aba1a",
   "metadata": {},
   "outputs": [
    {
     "name": "stdout",
     "output_type": "stream",
     "text": [
      "fold 0\n"
     ]
    },
    {
     "data": {
      "application/vnd.jupyter.widget-view+json": {
       "model_id": "32e6f7dd086641e8965bbd7798e51402",
       "version_major": 2,
       "version_minor": 0
      },
      "text/plain": [
       "MetricVisualizer(layout=Layout(align_self='stretch', height='500px'))"
      ]
     },
     "metadata": {},
     "output_type": "display_data"
    },
    {
     "name": "stdout",
     "output_type": "stream",
     "text": [
      "fold 1\n"
     ]
    },
    {
     "data": {
      "application/vnd.jupyter.widget-view+json": {
       "model_id": "8a7b79754a4b440197b3c159195d73c1",
       "version_major": 2,
       "version_minor": 0
      },
      "text/plain": [
       "MetricVisualizer(layout=Layout(align_self='stretch', height='500px'))"
      ]
     },
     "metadata": {},
     "output_type": "display_data"
    },
    {
     "name": "stdout",
     "output_type": "stream",
     "text": [
      "fold 2\n"
     ]
    },
    {
     "data": {
      "application/vnd.jupyter.widget-view+json": {
       "model_id": "6d62e06f11954e95a81ecae9f1779aad",
       "version_major": 2,
       "version_minor": 0
      },
      "text/plain": [
       "MetricVisualizer(layout=Layout(align_self='stretch', height='500px'))"
      ]
     },
     "metadata": {},
     "output_type": "display_data"
    },
    {
     "name": "stdout",
     "output_type": "stream",
     "text": [
      "fold 3\n"
     ]
    },
    {
     "data": {
      "application/vnd.jupyter.widget-view+json": {
       "model_id": "352d176cced34a64a3bc7d4a00214ab9",
       "version_major": 2,
       "version_minor": 0
      },
      "text/plain": [
       "MetricVisualizer(layout=Layout(align_self='stretch', height='500px'))"
      ]
     },
     "metadata": {},
     "output_type": "display_data"
    },
    {
     "name": "stdout",
     "output_type": "stream",
     "text": [
      "fold 4\n"
     ]
    },
    {
     "data": {
      "application/vnd.jupyter.widget-view+json": {
       "model_id": "5aa4c293530a44ea8e27c17af0603561",
       "version_major": 2,
       "version_minor": 0
      },
      "text/plain": [
       "MetricVisualizer(layout=Layout(align_self='stretch', height='500px'))"
      ]
     },
     "metadata": {},
     "output_type": "display_data"
    }
   ],
   "source": [
    "# cols_expにおけるカテゴリ変数のインデックス (Catboostモデリングに使用)\n",
    "cols_cat_idxs = [i for i, c in enumerate(cols_exp) if c in cols_cat]\n",
    "\n",
    "# train Catboost model\n",
    "clf_lst, oof_pred = train_catboost(train, cols_exp, col_target, cols_cat_idxs)\n",
    "\n",
    "# predict test with CV ensemble\n",
    "y_test_pred = predict_test(test, cols_exp, clf_lst)\n",
    "\n",
    "# record\n",
    "oof_pred_df = pl.DataFrame(oof_pred, schema=[f\"health_is_{h}\" for h in range(3)])\n",
    "test_pred_df = pl.DataFrame(y_test_pred, schema=[f\"health_is_{h}\" for h in range(3)])"
   ]
  },
  {
   "cell_type": "code",
   "execution_count": 6,
   "id": "cf1f771f",
   "metadata": {},
   "outputs": [],
   "source": [
    "# save\n",
    "oof_pred_df.write_csv(f\"pred/oof_pred_catboost_{feat}.csv\")\n",
    "test_pred_df.write_csv(f\"pred/test_pred_catboost_{feat}.csv\")"
   ]
  },
  {
   "cell_type": "code",
   "execution_count": null,
   "id": "177d00ff",
   "metadata": {},
   "outputs": [],
   "source": []
  },
  {
   "cell_type": "code",
   "execution_count": null,
   "id": "4ec3ba5a",
   "metadata": {},
   "outputs": [],
   "source": []
  }
 ],
 "metadata": {
  "kernelspec": {
   "display_name": "Python 3 (ipykernel)",
   "language": "python",
   "name": "python3"
  },
  "language_info": {
   "codemirror_mode": {
    "name": "ipython",
    "version": 3
   },
   "file_extension": ".py",
   "mimetype": "text/x-python",
   "name": "python",
   "nbconvert_exporter": "python",
   "pygments_lexer": "ipython3",
   "version": "3.9.5"
  }
 },
 "nbformat": 4,
 "nbformat_minor": 5
}
